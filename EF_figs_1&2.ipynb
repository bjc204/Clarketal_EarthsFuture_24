{
 "cells": [
  {
   "cell_type": "code",
   "execution_count": 1,
   "id": "ebec5f17-311f-494d-ac57-c63052ac99d6",
   "metadata": {},
   "outputs": [],
   "source": [
    "import xarray as xr\n",
    "import numpy as np\n",
    "import pandas as pd\n",
    "import esmlab\n",
    "#from ctsm_py import utils\n",
    "#import segment as sg\n",
    "import scipy                    \n",
    "from scipy import signal\n",
    "from scipy import stats\n",
    "#import cf_units as cf\n",
    "\n",
    "# some resources for plotting\n",
    "import matplotlib.pyplot as plt\n",
    "import cartopy\n",
    "import cartopy.crs as ccrs\n",
    "%matplotlib inline\n",
    "\n",
    "from matplotlib.pyplot import figure\n",
    "import matplotlib.ticker as mticker\n",
    "from cartopy.mpl.gridliner import LONGITUDE_FORMATTER, LATITUDE_FORMATTER"
   ]
  },
  {
   "cell_type": "code",
   "execution_count": 2,
   "id": "4281e6fd-5db4-40cf-821d-0577daeb09a3",
   "metadata": {},
   "outputs": [],
   "source": [
    "#CTSM\n",
    "filedir_ssp = '/glade/derecho/scratch/brendanc/ARISE_GGCMI_CLM/SSP245'\n",
    "filedir_sai = '/glade/derecho/scratch/brendanc/ARISE_GGCMI_CLM/SAI'\n",
    "\n",
    "clm_ssp = xr.open_dataset(filedir_ssp + '/b.e21.BWSSP245cmip6.f09_g17.CMIP6-SSP2-4.5-WACCM.006.hcru_hcru_mt13.alpha-ctsm5.2.mksrf.23_ctsm5.1.dev171.GGCMIharm.clm2.h2.YIELD.2016-2069.nc')\n",
    "clm_sai = xr.open_dataset(filedir_sai + '/b.e21.BW.f09_g17.SSP245-TSMLT-GAUSS-DEFAULT.006.hcru_hcru_mt13.alpha-ctsm5.2.mksrf.23_ctsm5.1.dev171.GGCMIharm.clm2.h2.YIELD.2036-2069.nc')\n",
    "\n",
    "cornyield_clm_ssp = clm_ssp['yield'].sel(crops=0)\n",
    "conarea_clm_ssp = clm_ssp['area'].sel(crops=0)\n",
    "conarea_clm_ssp = conarea_clm_ssp * 100\n",
    "\n",
    "cornyield_clm_sai = clm_sai['yield'].sel(crops=0)\n",
    "conarea_clm_sai = clm_sai['area'].sel(crops=0)\n",
    "conarea_clm_sai = conarea_clm_sai * 100\n",
    "\n",
    "cornprod_clm_ssp = cornyield_clm_ssp * conarea_clm_ssp\n",
    "cornprod_clm_ssp = cornprod_clm_ssp.sel(time=slice('2016','2068')) \n",
    "cornprod_clm_ssp_sum = cornprod_clm_ssp.sum(dim=['lat','lon'],skipna=True)\n",
    "\n",
    "cornprod_clm_sai = cornyield_clm_sai * conarea_clm_sai\n",
    "cornprod_clm_sai = cornprod_clm_sai.sel(time=slice('2036', '2068')) \n",
    "cornprod_clm_sai_sum = cornprod_clm_sai.sum(dim=['lat','lon'],skipna=True)"
   ]
  },
  {
   "cell_type": "code",
   "execution_count": 3,
   "id": "be1130a7-9f7a-44a8-a143-d961574b803b",
   "metadata": {},
   "outputs": [],
   "source": [
    "timessp = cornprod_clm_ssp['time'].values\n",
    "timesai = cornprod_clm_sai['time'].values\n",
    "lat = conarea_clm_ssp['lat'].values\n",
    "lon = conarea_clm_ssp['lon'].values"
   ]
  },
  {
   "cell_type": "code",
   "execution_count": 4,
   "id": "c798b94f-995c-40a1-ad53-7907c028f670",
   "metadata": {},
   "outputs": [],
   "source": [
    "filedir_area = '/glade/derecho/scratch/brendanc/archive/240509.b.e21.BWSSP245cmip6.f09_g17.CMIP6-SSP2-4.5-WACCM.006.radcase1.hcru_hcru_mt13.alpha-ctsm5.2.mksrf.23_ctsm5.1.dev171.GGCMIharm_2036-2045/lnd/hist'\n",
    "area = xr.open_dataset(filedir_area + '/240509.b.e21.BWSSP245cmip6.f09_g17.CMIP6-SSP2-4.5-WACCM.006.radcase1.hcru_hcru_mt13.alpha-ctsm5.2.mksrf.23_ctsm5.1.dev171.GGCMIharm_2036-2045.clm2.h2.2036-01-01-00000.nc')\n",
    "area = area.area\n",
    "area = area * 100\n",
    "filedir_maizefrac = '/glade/campaign/univ/urtg0006/Brendan/GGCMIinput_2015soc_0.5deg_5.2/landuse'\n",
    "maizefrac = xr.open_dataset(filedir_maizefrac + '/landuse-15crops_2015soc_annual_2015_2100.shifted.nc',decode_times=False)\n",
    "maizefrac_rain = maizefrac.maize_rainfed\n",
    "maizefrac_irr = maizefrac.maize_irrigated\n",
    "maizefrac = maizefrac_rain + maizefrac_irr\n",
    "maizefrac = maizefrac.isel(lat=slice(None, None, -1))\n",
    "maizefrac_2016_2068 = maizefrac.sel(time=slice(355.0, 407.0))\n",
    "maizefrac_2015_2068 = maizefrac.sel(time=slice(354.0, 407.0))"
   ]
  },
  {
   "cell_type": "code",
   "execution_count": 5,
   "id": "782369af-081e-497c-8300-aafaffd8f44c",
   "metadata": {},
   "outputs": [],
   "source": [
    "maizefrac = maizefrac_2016_2068.values\n",
    "maizefrac_newtime = xr.DataArray(maizefrac, coords={'time': timessp,'lat': lat, 'lon': lon},\n",
    "             dims=['time', 'lat', 'lon'])"
   ]
  },
  {
   "cell_type": "code",
   "execution_count": 6,
   "id": "e331fb97-d29b-41dc-a4ab-9ead142e59a9",
   "metadata": {},
   "outputs": [],
   "source": [
    "maize_area_tot_ssp = (maizefrac_newtime) * (area)\n",
    "maize_area_tot_ssp = maize_area_tot_ssp.where(maize_area_tot_ssp > 10)\n",
    "maize_area_tot_sai = maize_area_tot_ssp.sel(time=slice('2036','2068'))"
   ]
  },
  {
   "cell_type": "code",
   "execution_count": 7,
   "id": "ca719c31-cd4e-4abc-9a23-a735102b872f",
   "metadata": {},
   "outputs": [],
   "source": [
    "savedir = '/glade/campaign/univ/urtg0006/Brendan/GGCMI_model_comp_figs'"
   ]
  },
  {
   "cell_type": "code",
   "execution_count": 8,
   "id": "1361ba75-bba4-4ae8-8c25-136356cfcce0",
   "metadata": {},
   "outputs": [],
   "source": [
    "#CTSM\n",
    "filedir_ssp = '/glade/derecho/scratch/brendanc/ARISE_GGCMI_CLM/SSP245'\n",
    "filedir_sai = '/glade/derecho/scratch/brendanc/ARISE_GGCMI_CLM/SAI'\n",
    "\n",
    "clm_ssp = xr.open_dataset(filedir_ssp + '/b.e21.BWSSP245cmip6.f09_g17.CMIP6-SSP2-4.5-WACCM.006.hcru_hcru_mt13.alpha-ctsm5.2.mksrf.23_ctsm5.1.dev171.GGCMIharm.clm2.h2.YIELD.2016-2069.nc')\n",
    "clm_sai = xr.open_dataset(filedir_sai + '/b.e21.BW.f09_g17.SSP245-TSMLT-GAUSS-DEFAULT.006.hcru_hcru_mt13.alpha-ctsm5.2.mksrf.23_ctsm5.1.dev171.GGCMIharm.clm2.h2.YIELD.2036-2069.nc')\n",
    "\n",
    "cornyield_clm_ssp = clm_ssp['yield'].sel(crops=0)\n",
    "conarea_clm_ssp = clm_ssp['area'].sel(crops=0)\n",
    "conarea_clm_ssp = conarea_clm_ssp * 100\n",
    "\n",
    "cornyield_clm_sai = clm_sai['yield'].sel(crops=0)\n",
    "conarea_clm_sai = clm_sai['area'].sel(crops=0)\n",
    "conarea_clm_sai = conarea_clm_sai * 100\n",
    "\n",
    "cornyield_clm_ssp = cornyield_clm_ssp.sel(time=slice('2016','2068')) \n",
    "cornyield_clm_sai = cornyield_clm_sai.sel(time=slice('2036','2068')) \n",
    "\n",
    "cornprod_clm_ssp = cornyield_clm_ssp * maize_area_tot_ssp\n",
    "cornprod_clm_ssp_sum = cornprod_clm_ssp.sum(dim=['lat','lon'],skipna=True)\n",
    "\n",
    "cornprod_clm_sai = cornyield_clm_sai * maize_area_tot_sai\n",
    "cornprod_clm_sai_sum = cornprod_clm_sai.sum(dim=['lat','lon'],skipna=True)"
   ]
  },
  {
   "cell_type": "code",
   "execution_count": 9,
   "id": "1372ebd5-4880-45c5-8e8e-76805a08cb7b",
   "metadata": {},
   "outputs": [],
   "source": [
    "cornprod_clm_sai_sum = cornprod_clm_sai_sum / 1e6"
   ]
  },
  {
   "cell_type": "code",
   "execution_count": 10,
   "id": "5ea2d222-f272-40a7-bac6-0e2349c1d8ed",
   "metadata": {},
   "outputs": [],
   "source": [
    "cornprod_clm_ssp_sum = cornprod_clm_ssp_sum / 1e6"
   ]
  },
  {
   "cell_type": "code",
   "execution_count": 11,
   "id": "5f633804-eb94-4ae8-9fa8-e9ce18dba1e7",
   "metadata": {},
   "outputs": [],
   "source": [
    "time_ssp = np.linspace(2016, 2069, 54)\n",
    "time_sai = np.linspace(2036, 2069, 34)"
   ]
  },
  {
   "cell_type": "code",
   "execution_count": 12,
   "id": "2acc0f63-8bc5-46bf-be1b-1adb7e0c0b6d",
   "metadata": {},
   "outputs": [],
   "source": [
    "time_ssp_lpj = np.arange(np.datetime64('2015-01-01').astype('datetime64[Y]'), np.datetime64('2069-01-01').astype('datetime64[Y]'))\n",
    "time_sai_lpj = np.arange(np.datetime64('2035-01-01').astype('datetime64[Y]'), np.datetime64('2069-01-01').astype('datetime64[Y]'))"
   ]
  },
  {
   "cell_type": "code",
   "execution_count": 13,
   "id": "dc210931-7036-4c19-8f05-f1119e588e3d",
   "metadata": {},
   "outputs": [],
   "source": [
    "maizefrac_2015 = maizefrac_2015_2068.values\n",
    "maizefrac_newtime_2015 = xr.DataArray(maizefrac_2015, coords={'time': time_ssp_lpj,'lat': lat, 'lon': lon},\n",
    "             dims=['time', 'lat', 'lon'])\n",
    "\n",
    "maize_area_tot_2015_ssp = (maizefrac_newtime_2015) * (area)\n",
    "maize_area_tot_2015_ssp = maize_area_tot_2015_ssp.where(maize_area_tot_2015_ssp > 10)\n",
    "maize_area_tot_2015_sai = maize_area_tot_2015_ssp.sel(time=slice('2035','2068'))"
   ]
  },
  {
   "cell_type": "code",
   "execution_count": 14,
   "id": "13d0647b-b1ab-4e56-b235-8e656ade2e21",
   "metadata": {},
   "outputs": [],
   "source": [
    "filedir3 = '/glade/p/univ/urtg0006/Brendan/GGCMI-output/lpj-guess/updated'\n",
    "cornlpjssp_irr = xr.open_dataset(filedir3 + '/lpj-guess_CESM2-WACCM_raw_ssp245_2015soc_default_yield-mai-firr_global_annual_2015_2068_shifted.nc',decode_times=False)\n",
    "cornlpjarise_irr = xr.open_dataset(filedir3 + '/lpj-guess_CESM2-WACCM_raw_arise1.5_2015soc_default_yield-mai-firr_global_annual_2035_2068_shifted.nc',decode_times=False)\n",
    "cornlpjssp_irr = cornlpjssp_irr['yield-mai-firr']\n",
    "cornlpjssp_irr = cornlpjssp_irr.isel(lat=slice(None, None, -1))\n",
    "cornlpjarise_irr = cornlpjarise_irr['yield-mai-firr']\n",
    "cornlpjarise_irr = cornlpjarise_irr.isel(lat=slice(None, None, -1))\n",
    "\n",
    "cornlpjssp_noirr = xr.open_dataset(filedir3 + '/lpj-guess_CESM2-WACCM_raw_ssp245_2015soc_default_yield-mai-noirr_global_annual_2015_2068_shifted.nc',decode_times=False)\n",
    "cornlpjarise_noirr = xr.open_dataset(filedir3 + '/lpj-guess_CESM2-WACCM_raw_arise1.5_2015soc_default_yield-mai-noirr_global_annual_2035_2068_shifted.nc',decode_times=False)\n",
    "cornlpjssp_noirr = cornlpjssp_noirr['yield-mai-noirr']\n",
    "cornlpjssp_noirr = cornlpjssp_noirr.isel(lat=slice(None, None, -1))\n",
    "cornlpjarise_noirr = cornlpjarise_noirr['yield-mai-noirr']\n",
    "cornlpjarise_noirr = cornlpjarise_noirr.isel(lat=slice(None, None, -1))\n",
    "\n",
    "cornyieldlpjssp = cornlpjssp_noirr + cornlpjssp_irr\n",
    "cornyieldlpjsai = cornlpjarise_noirr + cornlpjarise_irr\n",
    "\n",
    "LPJSSPYIELD = cornyieldlpjssp.values\n",
    "cornyield_lpj_ssp = xr.DataArray(LPJSSPYIELD, coords={'time': time_ssp_lpj,'lat': lat, 'lon': lon},\n",
    "             dims=['time', 'lat', 'lon'])\n",
    "LPJSAIYIELD = cornyieldlpjsai.values\n",
    "cornyield_lpj_sai = xr.DataArray(LPJSAIYIELD, coords={'time': time_sai_lpj,'lat': lat, 'lon': lon},\n",
    "             dims=['time', 'lat', 'lon'])\n",
    "\n",
    "cornprod_lpj_ssp = cornyield_lpj_ssp * maize_area_tot_2015_ssp\n",
    "cornprod_lpj_ssp = cornprod_lpj_ssp.sel(time=slice('2016', '2068'))\n",
    "cornprod_lpj_ssp_sum = cornprod_lpj_ssp.sum(dim=['lat','lon'],skipna=True)\n",
    "\n",
    "cornprod_lpj_sai = cornyield_lpj_sai * maize_area_tot_2015_sai\n",
    "cornprod_lpj_sai = cornprod_lpj_sai.sel(time=slice('2036', '2068'))\n",
    "cornprod_lpj_sai_sum = cornprod_lpj_sai.sum(dim=['lat','lon'],skipna=True)"
   ]
  },
  {
   "cell_type": "code",
   "execution_count": 15,
   "id": "906835ec-f799-4e26-a0e6-f8913f11c443",
   "metadata": {},
   "outputs": [],
   "source": [
    "cornprod_lpj_ssp_sum = cornprod_lpj_ssp_sum / 1e6"
   ]
  },
  {
   "cell_type": "code",
   "execution_count": 16,
   "id": "ab1ee49f-8af4-4a03-ba92-5db469822a5c",
   "metadata": {},
   "outputs": [],
   "source": [
    "cornprod_lpj_sai_sum = cornprod_lpj_sai_sum / 1e6"
   ]
  },
  {
   "cell_type": "code",
   "execution_count": 17,
   "id": "f3c4dd27-e215-4570-98dd-a167436eb95d",
   "metadata": {},
   "outputs": [],
   "source": [
    "filedir4 = '/glade/p/univ/urtg0006/Brendan/GGCMI-output/pdssat'\n",
    "cornpdssatssp_noirr = xr.open_dataset(filedir4 + '/pdssat_cesm2-waccm_ssp245_nosdif_yield-mai-noirr_global_annual_2015_2068_shifted.nc',decode_times=False)\n",
    "cornpdssatarise_noirr = xr.open_dataset(filedir4 + '/pdssat_cesm2-waccm_arise15_nosdif_yield-mai-noirr_global_annual_2035_2068_shifted.nc',decode_times=False)\n",
    "cornpdssatssp_noirr = cornpdssatssp_noirr['yield-mai-noirr']\n",
    "cornpdssatssp_noirr = cornpdssatssp_noirr.isel(lat=slice(None, None, -1))\n",
    "cornpdssatarise_noirr = cornpdssatarise_noirr['yield-mai-noirr']\n",
    "cornpdssatarise_noirr = cornpdssatarise_noirr.isel(lat=slice(None, None, -1))\n",
    "\n",
    "cornpdssatssp_irr = xr.open_dataset(filedir4 + '/pdssat_cesm2-waccm_ssp245_nosdif_yield-mai-firr_global_annual_2015_2068_shifted.nc',decode_times=False)\n",
    "cornpdssatarise_irr = xr.open_dataset(filedir4 + '/pdssat_cesm2-waccm_arise15_nosdif_yield-mai-firr_global_annual_2035_2068_shifted.nc',decode_times=False)\n",
    "cornpdssatssp_irr = cornpdssatssp_irr['yield-mai-firr']\n",
    "cornpdssatssp_irr = cornpdssatssp_irr.isel(lat=slice(None, None, -1))\n",
    "cornpdssatarise_irr = cornpdssatarise_irr['yield-mai-firr']\n",
    "cornpdssatarise_irr = cornpdssatarise_irr.isel(lat=slice(None, None, -1))\n",
    "\n",
    "cornpdssatarise_sdif_irr = xr.open_dataset(filedir4 + '/pdssat_cesm2-waccm_arise15_sdif_yield-mai-firr_global_annual_2035_2068_shifted.nc',decode_times=False)\n",
    "cornpdssatarise_sdif_irr = cornpdssatarise_sdif_irr['yield-mai-firr']\n",
    "cornpdssatarise_sdif_irr = cornpdssatarise_sdif_irr.isel(lat=slice(None, None, -1))\n",
    "cornpdssatarise_sdif_noirr = xr.open_dataset(filedir4 + '/pdssat_cesm2-waccm_arise15_sdif_yield-mai-noirr_global_annual_2035_2068_shifted.nc',decode_times=False)\n",
    "cornpdssatarise_sdif_noirr = cornpdssatarise_sdif_noirr['yield-mai-noirr']\n",
    "cornpdssatarise_sdif_noirr = cornpdssatarise_sdif_noirr.isel(lat=slice(None, None, -1))\n",
    "\n",
    "cornpdssatssp_sdif_irr = xr.open_dataset(filedir4 + '/pdssat_cesm2-waccm_ssp245_sdif_yield-mai-firr_global_annual_2015_2068_shifted.nc',decode_times=False)\n",
    "cornpdssatssp_sdif_irr = cornpdssatssp_sdif_irr['yield-mai-firr']\n",
    "cornpdssatssp_sdif_irr = cornpdssatssp_sdif_irr.isel(lat=slice(None, None, -1))\n",
    "cornpdssatssp_sdif_noirr = xr.open_dataset(filedir4 + '/pdssat_cesm2-waccm_ssp245_sdif_yield-mai-noirr_global_annual_2015_2068_shifted.nc',decode_times=False)\n",
    "cornpdssatssp_sdif_noirr = cornpdssatssp_sdif_noirr['yield-mai-noirr']\n",
    "cornpdssatssp_sdif_noirr = cornpdssatssp_sdif_noirr.isel(lat=slice(None, None, -1))\n",
    "\n",
    "cornyieldpdssatssp = cornpdssatssp_irr + cornpdssatssp_noirr\n",
    "cornyieldpdssatsai = cornpdssatarise_irr + cornpdssatarise_noirr\n",
    "\n",
    "cornyieldpdssatsai_sdif = cornpdssatarise_sdif_irr + cornpdssatarise_sdif_noirr\n",
    "cornyieldpdssatssp_sdif = cornpdssatssp_sdif_irr + cornpdssatssp_sdif_noirr\n",
    "\n",
    "PDSSATSSPYIELD = cornyieldpdssatssp.values\n",
    "cornyield_pdssat_ssp = xr.DataArray(PDSSATSSPYIELD, coords={'time': time_ssp_lpj,'lat': lat, 'lon': lon},\n",
    "             dims=['time', 'lat', 'lon'])\n",
    "\n",
    "PDSSATSAIYIELD = cornyieldpdssatsai.values\n",
    "cornyield_pdssat_sai = xr.DataArray(PDSSATSAIYIELD, coords={'time': time_sai_lpj,'lat': lat, 'lon': lon},\n",
    "             dims=['time', 'lat', 'lon'])\n",
    "\n",
    "PDSSATSAISDIFYIELD = cornyieldpdssatsai_sdif.values\n",
    "cornyield_pdssat_sai_sdif = xr.DataArray(PDSSATSAISDIFYIELD, coords={'time': time_sai_lpj,'lat': lat, 'lon': lon},\n",
    "             dims=['time', 'lat', 'lon'])\n",
    "\n",
    "PDSSATSSPSDIFYIELD = cornyieldpdssatssp_sdif.values\n",
    "cornyield_pdssat_ssp_sdif = xr.DataArray(PDSSATSSPSDIFYIELD, coords={'time': time_ssp_lpj,'lat': lat, 'lon': lon},\n",
    "             dims=['time', 'lat', 'lon'])\n",
    "\n",
    "cornprod_pdssat_ssp = cornyield_pdssat_ssp * maize_area_tot_2015_ssp\n",
    "cornprod_pdssat_ssp = cornprod_pdssat_ssp.sel(time=slice('2016', '2068'))\n",
    "cornprod_pdssat_ssp_sum = cornprod_pdssat_ssp.sum(dim=['lat','lon'],skipna=True)\n",
    "\n",
    "cornprod_pdssat_sai = cornyield_pdssat_sai * maize_area_tot_2015_sai\n",
    "cornprod_pdssat_sai = cornprod_pdssat_sai.sel(time=slice('2036', '2068'))\n",
    "cornprod_pdssat_sai_sum = cornprod_pdssat_sai.sum(dim=['lat','lon'],skipna=True)\n",
    "\n",
    "cornyield_pdssat_sai_sdif = cornyield_pdssat_sai_sdif * maize_area_tot_2015_sai\n",
    "cornyield_pdssat_sai_sdif = cornyield_pdssat_sai_sdif.sel(time=slice('2036', '2068'))\n",
    "cornyield_pdssat_sai_sdif_sum = cornyield_pdssat_sai_sdif.sum(dim=['lat','lon'],skipna=True)\n",
    "\n",
    "cornyield_pdssat_ssp_sdif = cornyield_pdssat_ssp_sdif * maize_area_tot_2015_ssp\n",
    "cornyield_pdssat_ssp_sdif = cornyield_pdssat_ssp_sdif.sel(time=slice('2016', '2068'))\n",
    "cornyield_pdssat_ssp_sdif_sum = cornyield_pdssat_ssp_sdif.sum(dim=['lat','lon'],skipna=True)"
   ]
  },
  {
   "cell_type": "code",
   "execution_count": 18,
   "id": "ec60d3ce-ffa7-46b8-9261-c26bf2f31359",
   "metadata": {},
   "outputs": [],
   "source": [
    "cornprod_pdssat_ssp_sum = cornprod_pdssat_ssp_sum / 1e6"
   ]
  },
  {
   "cell_type": "code",
   "execution_count": 19,
   "id": "6cae5d34-1cf3-42fe-a966-09dc38e0c246",
   "metadata": {},
   "outputs": [],
   "source": [
    "cornprod_pdssat_sai_sum = cornprod_pdssat_sai_sum / 1e6"
   ]
  },
  {
   "cell_type": "code",
   "execution_count": 20,
   "id": "00528523-0ee2-4d83-ae96-791d3ef8f656",
   "metadata": {},
   "outputs": [],
   "source": [
    "cornprod_pdssat_sai_sdif_sum = cornyield_pdssat_sai_sdif_sum / 1e6"
   ]
  },
  {
   "cell_type": "code",
   "execution_count": 21,
   "id": "7df172cc-b138-4f1a-9b1a-6fe387426f22",
   "metadata": {},
   "outputs": [],
   "source": [
    "cornprod_pdssat_ssp_sdif_sum = cornyield_pdssat_ssp_sdif_sum / 1e6"
   ]
  },
  {
   "cell_type": "code",
   "execution_count": 22,
   "id": "ff189449-c639-493b-a2bc-24a303ac3b43",
   "metadata": {},
   "outputs": [],
   "source": [
    "time_ssp = np.linspace(2016, 2068, 53)\n",
    "time_sai = np.linspace(2036, 2068, 33)\n",
    "time_sai_clm = np.linspace(2037, 2068, 32)"
   ]
  },
  {
   "cell_type": "code",
   "execution_count": 23,
   "id": "69da5f3d-2a4e-4daa-88cd-1632339063f1",
   "metadata": {},
   "outputs": [],
   "source": [
    "cornprod_clm_sai_sum = cornprod_clm_sai_sum[1:]"
   ]
  },
  {
   "cell_type": "code",
   "execution_count": 24,
   "id": "a5a6932d-9f60-4f02-8923-5021fb048741",
   "metadata": {},
   "outputs": [
    {
     "data": {
      "text/plain": [
       "<xarray.DataArray (time: 32)>\n",
       "array([725.849074, 723.045358, 728.263634, 699.611704, 750.358293, 733.537713,\n",
       "       740.283846, 714.689703, 756.296318, 714.656316, 749.414466, 738.608319,\n",
       "       725.388874, 734.14458 , 734.396986, 731.352535, 727.375446, 739.107599,\n",
       "       753.406514, 723.255363, 728.923824, 716.98761 , 760.556859, 744.985222,\n",
       "       730.186407, 753.397611, 737.146274, 751.531418, 731.740429, 712.595482,\n",
       "       740.676628, 745.815942])\n",
       "Coordinates:\n",
       "    crops    float64 0.0\n",
       "  * time     (time) datetime64[ns] 2037-01-01 2038-01-01 ... 2068-01-01\n",
       "Attributes:\n",
       "    units:    tonN/ha/yr"
      ]
     },
     "execution_count": 24,
     "metadata": {},
     "output_type": "execute_result"
    }
   ],
   "source": [
    "cornprod_clm_sai_sum"
   ]
  },
  {
   "cell_type": "code",
   "execution_count": 26,
   "id": "600dac3d-70f3-4d98-9de7-f53186993cc3",
   "metadata": {},
   "outputs": [],
   "source": [
    "cornprod_pdssat_sai_sum_slice = cornprod_pdssat_sai_sum.sel(time=slice('2049','2068'))\n",
    "cornprod_pdssat_sai_sum_slicem = cornprod_pdssat_sai_sum_slice.mean(dim='time')\n",
    "cornprod_pdssat_ssp_sum_slice = cornprod_pdssat_ssp_sum.sel(time=slice('2049','2068'))\n",
    "cornprod_pdssat_ssp_sum_slicem = cornprod_pdssat_ssp_sum_slice.mean(dim='time')\n",
    "\n",
    "cornprod_lpj_sai_sum_slice = cornprod_lpj_sai_sum.sel(time=slice('2049','2068'))\n",
    "cornprod_lpj_sai_sum_slicem = cornprod_lpj_sai_sum_slice.mean(dim='time')\n",
    "cornprod_lpj_ssp_sum_slice = cornprod_lpj_ssp_sum.sel(time=slice('2049','2068'))\n",
    "cornprod_lpj_ssp_sum_slicem = cornprod_lpj_ssp_sum_slice.mean(dim='time')\n",
    "\n",
    "cornprod_clm_sai_sum_slice = cornprod_clm_sai_sum.sel(time=slice('2049','2068'))\n",
    "cornprod_clm_sai_sum_slicem = cornprod_clm_sai_sum_slice.mean(dim='time')\n",
    "cornprod_clm_ssp_sum_slice = cornprod_clm_ssp_sum.sel(time=slice('2049','2068'))\n",
    "cornprod_clm_ssp_sum_slicem = cornprod_clm_ssp_sum_slice.mean(dim='time')"
   ]
  },
  {
   "cell_type": "code",
   "execution_count": 27,
   "id": "3606378f-d122-4d74-bdc4-ce4e6abbf8b1",
   "metadata": {},
   "outputs": [
    {
     "data": {
      "text/plain": [
       "<xarray.DataArray ()>\n",
       "array(3.841935)\n",
       "Coordinates:\n",
       "    crops    float64 0.0\n",
       "Attributes:\n",
       "    units:    tonN/ha/yr"
      ]
     },
     "execution_count": 27,
     "metadata": {},
     "output_type": "execute_result"
    }
   ],
   "source": [
    "clm_pchange = ((cornprod_clm_sai_sum_slicem) - (cornprod_clm_ssp_sum_slicem)) / (cornprod_clm_ssp_sum_slicem)\n",
    "clm_pchange = clm_pchange * 100\n",
    "clm_pchange"
   ]
  },
  {
   "cell_type": "code",
   "execution_count": 28,
   "id": "c4b660ca-ff4a-4dde-aa5d-6c7156d71179",
   "metadata": {},
   "outputs": [
    {
     "data": {
      "text/plain": [
       "<xarray.DataArray ()>\n",
       "array(-0.291733)"
      ]
     },
     "execution_count": 28,
     "metadata": {},
     "output_type": "execute_result"
    }
   ],
   "source": [
    "lpj_pchange = ((cornprod_lpj_sai_sum_slicem) - (cornprod_lpj_ssp_sum_slicem)) / (cornprod_lpj_ssp_sum_slicem)\n",
    "lpj_pchange = lpj_pchange * 100\n",
    "lpj_pchange"
   ]
  },
  {
   "cell_type": "code",
   "execution_count": 29,
   "id": "19a0460a-b964-40db-bcee-13366309d6dd",
   "metadata": {},
   "outputs": [
    {
     "data": {
      "text/plain": [
       "<xarray.DataArray ()>\n",
       "array(11.196288)"
      ]
     },
     "execution_count": 29,
     "metadata": {},
     "output_type": "execute_result"
    }
   ],
   "source": [
    "dsat_pchange = ((cornprod_pdssat_sai_sum_slicem) - (cornprod_pdssat_ssp_sum_slicem)) / (cornprod_pdssat_ssp_sum_slicem)\n",
    "dsat_pchange = dsat_pchange * 100\n",
    "dsat_pchange"
   ]
  },
  {
   "cell_type": "code",
   "execution_count": 30,
   "id": "4ba9e396-0626-414e-9240-5648757a635f",
   "metadata": {},
   "outputs": [],
   "source": [
    "CLMref = cornprod_clm_ssp_sum.sel(time=slice('2016', '2035'))\n",
    "CLMref = CLMref.mean(dim='time')\n",
    "\n",
    "CLMssp = cornprod_clm_ssp_sum.sel(time=slice('2049', '2068'))\n",
    "CLMssp = CLMssp.mean(dim='time')\n",
    "CLMsai = cornprod_clm_sai_sum.sel(time=slice('2049', '2068'))\n",
    "CLMsai = CLMsai.mean(dim='time')\n",
    "\n",
    "CLMssp_pchange = (CLMssp - CLMref) / (CLMref)\n",
    "CLMssp_pchange = CLMssp_pchange * 100\n",
    "\n",
    "CLMsai_pchange = (CLMsai - CLMref) / (CLMref)\n",
    "CLMsai_pchange = CLMsai_pchange * 100"
   ]
  },
  {
   "cell_type": "code",
   "execution_count": 31,
   "id": "c3d7a3ef-1e43-4b2c-b6b2-4975957e0d2b",
   "metadata": {},
   "outputs": [],
   "source": [
    "CLMssp_2049 = cornprod_clm_ssp_sum.sel(time=slice('2049', '2058'))\n",
    "CLMssp_2049 = CLMssp_2049.mean(dim='time')\n",
    "CLMsai_2049 = cornprod_clm_sai_sum.sel(time=slice('2049', '2058'))\n",
    "CLMsai_2049 = CLMsai_2049.mean(dim='time')\n",
    "\n",
    "CLMssp_pchange_2049 = (CLMssp_2049 - CLMref) / (CLMref)\n",
    "CLMssp_pchange_2049 = CLMssp_pchange_2049 * 100\n",
    "\n",
    "CLMsai_pchange_2049 = (CLMsai_2049 - CLMref) / (CLMref)\n",
    "CLMsai_pchange_2049 = CLMsai_pchange_2049 * 100"
   ]
  },
  {
   "cell_type": "code",
   "execution_count": 32,
   "id": "1fbb5693-3ee6-4110-9521-c2e19622ebd1",
   "metadata": {},
   "outputs": [],
   "source": [
    "LPJref = cornprod_lpj_ssp_sum.sel(time=slice('2016', '2035'))\n",
    "LPJref = LPJref.mean(dim='time')\n",
    "\n",
    "LPJssp = cornprod_lpj_ssp_sum.sel(time=slice('2049', '2068'))\n",
    "LPJssp = LPJssp.mean(dim='time')\n",
    "LPJsai = cornprod_lpj_sai_sum.sel(time=slice('2049', '2068'))\n",
    "LPJsai = LPJsai.mean(dim='time')\n",
    "\n",
    "LPJssp_pchange = (LPJssp - LPJref) / (LPJref)\n",
    "LPJssp_pchange = LPJssp_pchange * 100\n",
    "\n",
    "LPJsai_pchange = (LPJsai - LPJref) / (LPJref)\n",
    "LPJsai_pchange = LPJsai_pchange * 100"
   ]
  },
  {
   "cell_type": "code",
   "execution_count": 33,
   "id": "9695c9a2-5b15-4d7e-ae0d-1aae8dc9922f",
   "metadata": {},
   "outputs": [],
   "source": [
    "LPJssp_2049 = cornprod_lpj_ssp_sum.sel(time=slice('2049', '2058'))\n",
    "LPJssp_2049 = LPJssp_2049.mean(dim='time')\n",
    "LPJsai_2049 = cornprod_lpj_sai_sum.sel(time=slice('2049', '2058'))\n",
    "LPJsai_2049 = LPJsai_2049.mean(dim='time')\n",
    "\n",
    "LPJssp_pchange_2049 = (LPJssp_2049 - LPJref) / (LPJref)\n",
    "LPJssp_pchange_2049 = LPJssp_pchange_2049 * 100\n",
    "\n",
    "LPJsai_pchange_2049 = (LPJsai_2049 - LPJref) / (LPJref)\n",
    "LPJsai_pchange_2049 = LPJsai_pchange_2049 * 100"
   ]
  },
  {
   "cell_type": "code",
   "execution_count": 34,
   "id": "84ae5738-dba5-434d-a40f-50135123cea2",
   "metadata": {},
   "outputs": [],
   "source": [
    "DSATref = cornprod_pdssat_ssp_sum.sel(time=slice('2016', '2025'))\n",
    "DSATref = DSATref.mean(dim='time')\n",
    "\n",
    "DSATref_sdif = cornprod_pdssat_ssp_sdif_sum.sel(time=slice('2016', '2035'))\n",
    "DSATref_sdif = DSATref_sdif.mean(dim='time')\n",
    "\n",
    "DSATssp = cornprod_pdssat_ssp_sum.sel(time=slice('2059', '2068'))\n",
    "DSATssp = DSATssp.mean(dim='time')\n",
    "DSATssp_sdif = cornprod_pdssat_ssp_sdif_sum.sel(time=slice('2049', '2068'))\n",
    "DSATssp_sdif = DSATssp_sdif.mean(dim='time')\n",
    "DSATsai = cornprod_pdssat_sai_sum.sel(time=slice('2059', '2068'))\n",
    "DSATsai = DSATsai.mean(dim='time')\n",
    "\n",
    "\n",
    "DSATssp_pchange = (DSATssp - DSATref) / (DSATref)\n",
    "DSATssp_pchange = DSATssp_pchange * 100\n",
    "\n",
    "DSATssp_sdif_pchange = (DSATssp_sdif - DSATref_sdif) / (DSATref_sdif)\n",
    "DSATssp_sdif_pchange = DSATssp_sdif_pchange * 100\n",
    "\n",
    "DSATsai_pchange = (DSATsai - DSATref) / (DSATref)\n",
    "DSATsai_pchange = DSATsai_pchange * 100\n",
    "\n",
    "DSATsai_sdif = cornprod_pdssat_sai_sdif_sum.sel(time=slice('2049', '2068'))\n",
    "DSATsai_sdif = DSATsai_sdif.mean(dim='time')\n",
    "DSATsai_sdif_pchange = (DSATsai_sdif - DSATref_sdif) / (DSATref_sdif)\n",
    "DSATsai_sdif_pchange = DSATsai_sdif_pchange * 100"
   ]
  },
  {
   "cell_type": "code",
   "execution_count": 35,
   "id": "36680fa5-4675-4ad1-971f-bf579d4fb84f",
   "metadata": {},
   "outputs": [],
   "source": [
    "DSATssp_sdif_2049 = cornprod_pdssat_ssp_sdif_sum.sel(time=slice('2049', '2058'))\n",
    "DSATssp_sdif_2049 = DSATssp_sdif_2049.mean(dim='time')\n",
    "\n",
    "DSATssp_sdif_pchange_2049 = (DSATssp_sdif_2049 - DSATref_sdif) / (DSATref_sdif)\n",
    "DSATssp_sdif_pchange_2049 = DSATssp_sdif_pchange_2049 * 100\n",
    "\n",
    "DSATsai_sdif_2049 = cornprod_pdssat_sai_sdif_sum.sel(time=slice('2049', '2058'))\n",
    "DSATsai_sdif_2049 = DSATsai_sdif_2049.mean(dim='time')\n",
    "\n",
    "DSATsai_sdif_pchange_2049 = (DSATsai_sdif_2049 - DSATref_sdif) / (DSATref_sdif)\n",
    "DSATsai_sdif_pchange_2049 = DSATsai_sdif_pchange_2049 * 100"
   ]
  },
  {
   "cell_type": "code",
   "execution_count": 36,
   "id": "b41265bb-c00b-4a36-b46c-510eef890924",
   "metadata": {},
   "outputs": [
    {
     "data": {
      "text/plain": [
       "<xarray.DataArray ()>\n",
       "array(-0.947103)\n",
       "Coordinates:\n",
       "    crops    float64 0.0\n",
       "Attributes:\n",
       "    units:    tonN/ha/yr"
      ]
     },
     "execution_count": 36,
     "metadata": {},
     "output_type": "execute_result"
    }
   ],
   "source": [
    "CLMssp_pchange"
   ]
  },
  {
   "cell_type": "code",
   "execution_count": 37,
   "id": "653a5f32-f689-431e-acb6-01c1244c44cd",
   "metadata": {},
   "outputs": [
    {
     "data": {
      "text/plain": [
       "<xarray.DataArray ()>\n",
       "array(2.858445)\n",
       "Coordinates:\n",
       "    crops    float64 0.0\n",
       "Attributes:\n",
       "    units:    tonN/ha/yr"
      ]
     },
     "execution_count": 37,
     "metadata": {},
     "output_type": "execute_result"
    }
   ],
   "source": [
    "CLMsai_pchange"
   ]
  },
  {
   "cell_type": "code",
   "execution_count": 38,
   "id": "412a89a5-0e50-42c1-ab62-99015616db83",
   "metadata": {},
   "outputs": [
    {
     "data": {
      "text/plain": [
       "<xarray.DataArray ()>\n",
       "array(0.542026)"
      ]
     },
     "execution_count": 38,
     "metadata": {},
     "output_type": "execute_result"
    }
   ],
   "source": [
    "LPJssp_pchange"
   ]
  },
  {
   "cell_type": "code",
   "execution_count": 39,
   "id": "e0764420-aba8-4a91-a83c-50885d71d6be",
   "metadata": {
    "scrolled": true
   },
   "outputs": [
    {
     "data": {
      "text/plain": [
       "<xarray.DataArray ()>\n",
       "array(0.248711)"
      ]
     },
     "execution_count": 39,
     "metadata": {},
     "output_type": "execute_result"
    }
   ],
   "source": [
    "LPJsai_pchange"
   ]
  },
  {
   "cell_type": "code",
   "execution_count": 40,
   "id": "d6995f58-8dfe-4a36-ab71-e7c39fae3ead",
   "metadata": {},
   "outputs": [
    {
     "data": {
      "text/plain": [
       "<xarray.DataArray ()>\n",
       "array(-25.562149)"
      ]
     },
     "execution_count": 40,
     "metadata": {},
     "output_type": "execute_result"
    }
   ],
   "source": [
    "DSATssp_pchange"
   ]
  },
  {
   "cell_type": "code",
   "execution_count": 41,
   "id": "6e948317-b24a-4d89-b80b-594c7b6ab294",
   "metadata": {},
   "outputs": [
    {
     "data": {
      "text/plain": [
       "<xarray.DataArray ()>\n",
       "array(-13.652781)"
      ]
     },
     "execution_count": 41,
     "metadata": {},
     "output_type": "execute_result"
    }
   ],
   "source": [
    "DSATsai_pchange"
   ]
  },
  {
   "cell_type": "code",
   "execution_count": 42,
   "id": "1469af3f-9157-4ed3-845c-7189af661ffb",
   "metadata": {},
   "outputs": [],
   "source": [
    "N = 3\n",
    "ind = np.arange(N)\n",
    "barWidth = 0.1"
   ]
  },
  {
   "cell_type": "code",
   "execution_count": 43,
   "id": "68f582b0-817f-434e-aa7b-fd3fa095ae7f",
   "metadata": {},
   "outputs": [],
   "source": [
    "SSP = [CLMssp_pchange, LPJssp_pchange, DSATssp_pchange]\n",
    "SAI = [CLMsai_pchange, LPJsai_pchange, DSATsai_pchange]"
   ]
  },
  {
   "cell_type": "code",
   "execution_count": 45,
   "id": "976bbe31-36df-4c75-bd34-e99228dfa145",
   "metadata": {},
   "outputs": [],
   "source": [
    "SSP = np.array([CLMssp_pchange, LPJssp_pchange, DSATssp_sdif_pchange])\n",
    "SAI = np.array([CLMsai_pchange, LPJsai_pchange, DSATsai_sdif_pchange])\n",
    "\n",
    "SSP_2049 = np.array([CLMssp_pchange_2049, LPJssp_pchange_2049, DSATssp_sdif_pchange_2049])\n",
    "SAI_2049 = np.array([CLMsai_pchange_2049, LPJsai_pchange_2049, DSATsai_sdif_pchange_2049])"
   ]
  },
  {
   "cell_type": "code",
   "execution_count": 46,
   "id": "9572170a-f89b-4e76-ab11-8222b74e5bbe",
   "metadata": {},
   "outputs": [
    {
     "data": {
      "text/plain": [
       "array([ -0.94710267,   0.54202611, -19.40643489])"
      ]
     },
     "execution_count": 46,
     "metadata": {},
     "output_type": "execute_result"
    }
   ],
   "source": [
    "SSP"
   ]
  },
  {
   "cell_type": "code",
   "execution_count": 47,
   "id": "fcf58485-ed0b-4470-ad39-9127f13ebc67",
   "metadata": {},
   "outputs": [],
   "source": [
    "CLMrefts = cornprod_clm_ssp_sum.sel(time=slice('2016', '2035'))\n",
    "CLMrefts = CLMrefts.values\n",
    "CLMsspts = cornprod_clm_ssp_sum.sel(time=slice('2049', '2068'))\n",
    "CLMsspts = CLMsspts.values\n",
    "CLMsaits = cornprod_clm_sai_sum.sel(time=slice('2049', '2068'))\n",
    "CLMsaits = CLMsaits.values\n",
    "CLMssp_pchange_ts = (CLMsspts - CLMrefts) / (CLMrefts)\n",
    "CLMssp_pchange_ts = CLMssp_pchange_ts * 100\n",
    "\n",
    "CLMsai_pchange_ts = (CLMsaits - CLMrefts) / (CLMrefts)\n",
    "CLMsai_pchange_ts = CLMsai_pchange_ts * 100\n",
    "\n",
    "LPJrefts = cornprod_lpj_ssp_sum.sel(time=slice('2016', '2035'))\n",
    "LPJrefts = LPJrefts.values\n",
    "LPJsspts = cornprod_lpj_ssp_sum.sel(time=slice('2049', '2068'))\n",
    "LPJsspts = LPJsspts.values\n",
    "LPJsaits = cornprod_lpj_sai_sum.sel(time=slice('2049', '2068'))\n",
    "LPJsaits = LPJsaits.values\n",
    "\n",
    "LPJssp_pchange_ts = (LPJsspts - LPJrefts) / (LPJrefts)\n",
    "LPJssp_pchange_ts = LPJssp_pchange_ts * 100\n",
    "\n",
    "LPJsai_pchange_ts = (LPJsaits - LPJrefts) / (LPJrefts)\n",
    "LPJsai_pchange_ts = LPJsai_pchange_ts * 100\n",
    "\n",
    "\n",
    "\n",
    "DSATref_sdifts = cornprod_pdssat_ssp_sdif_sum.sel(time=slice('2016', '2035'))\n",
    "DSATref_sdifts = DSATref_sdifts.values\n",
    "DSATssp_sdifts = cornprod_pdssat_ssp_sdif_sum.sel(time=slice('2049', '2068'))\n",
    "DSATssp_sdifts = DSATssp_sdifts.values\n",
    "DSATsai_sdifts = cornprod_pdssat_sai_sdif_sum.sel(time=slice('2049', '2068'))\n",
    "DSATsai_sdifts = DSATsai_sdifts.values\n",
    "\n",
    "DSATssp_sdif_pchange_ts = (DSATssp_sdifts - DSATref_sdifts) / (DSATref_sdifts)\n",
    "DSATssp_sdif_pchange_ts = DSATssp_sdif_pchange_ts * 100\n",
    "\n",
    "DSATsai_sdif_pchange_ts = (DSATsai_sdifts - DSATref_sdifts) / (DSATref_sdifts)\n",
    "DSATsai_sdif_pchange_ts = DSATsai_sdif_pchange_ts * 100"
   ]
  },
  {
   "cell_type": "code",
   "execution_count": 48,
   "id": "7a8a879f-8e8b-4f0f-bd1a-787222707780",
   "metadata": {},
   "outputs": [],
   "source": [
    "CLMsspts_2049 = cornprod_clm_ssp_sum.sel(time=slice('2049', '2068'))\n",
    "CLMsspts_2049 = CLMsspts_2049.values\n",
    "CLMsaits_2049 = cornprod_clm_sai_sum.sel(time=slice('2049', '2068'))\n",
    "CLMsaits_2049 = CLMsaits_2049.values\n",
    "CLMssp_pchange_ts_2049 = (CLMsspts_2049 - CLMrefts) / (CLMrefts)\n",
    "CLMssp_pchange_ts_2049 = CLMssp_pchange_ts_2049 * 100\n",
    "\n",
    "CLMsai_pchange_ts_2049 = (CLMsaits_2049 - CLMrefts) / (CLMrefts)\n",
    "CLMsai_pchange_ts_2049 = CLMsai_pchange_ts_2049 * 100\n",
    "\n",
    "LPJsspts_2049 = cornprod_lpj_ssp_sum.sel(time=slice('2049', '2068'))\n",
    "LPJsspts_2049 = LPJsspts_2049.values\n",
    "LPJsaits_2049 = cornprod_lpj_sai_sum.sel(time=slice('2049', '2068'))\n",
    "LPJsaits_2049 = LPJsaits_2049.values\n",
    "\n",
    "LPJssp_pchange_ts_2049 = (LPJsspts_2049 - LPJrefts) / (LPJrefts)\n",
    "LPJssp_pchange_ts_2049 = LPJssp_pchange_ts_2049 * 100\n",
    "\n",
    "LPJsai_pchange_ts_2049 = (LPJsaits_2049 - LPJrefts) / (LPJrefts)\n",
    "LPJsai_pchange_ts_2049 = LPJsai_pchange_ts_2049 * 100\n",
    "\n",
    "DSATssp_sdifts_2049 = cornprod_pdssat_ssp_sdif_sum.sel(time=slice('2049', '2068'))\n",
    "DSATssp_sdifts_2049 = DSATssp_sdifts_2049.values\n",
    "DSATsai_sdifts_2049 = cornprod_pdssat_sai_sdif_sum.sel(time=slice('2049', '2068'))\n",
    "DSATsai_sdifts_2049 = DSATsai_sdifts_2049.values\n",
    "\n",
    "DSATssp_sdif_pchange_ts_2049 = (DSATssp_sdifts_2049 - DSATref_sdifts) / (DSATref_sdifts)\n",
    "DSATssp_sdif_pchange_ts_2049 = DSATssp_sdif_pchange_ts_2049 * 100\n",
    "\n",
    "DSATsai_sdif_pchange_ts_2049 = (DSATsai_sdifts_2049 - DSATref_sdifts) / (DSATref_sdifts)\n",
    "DSATsai_sdif_pchange_ts_2049 = DSATsai_sdif_pchange_ts_2049 * 100"
   ]
  },
  {
   "cell_type": "code",
   "execution_count": 49,
   "id": "cf545939-debb-49e7-91a6-5f8a6c79fa21",
   "metadata": {},
   "outputs": [
    {
     "data": {
      "text/plain": [
       "array([777.27655001, 742.9088275 , 698.60911615, 737.12737975,\n",
       "       712.72231128, 702.76523848, 690.99146675, 709.32135904,\n",
       "       708.99650223, 669.16094834, 727.82702554, 734.99086648,\n",
       "       704.8549639 , 730.14993407, 692.28520001, 719.41936189,\n",
       "       713.47519847, 722.19649389, 727.56639071, 691.17381608])"
      ]
     },
     "execution_count": 49,
     "metadata": {},
     "output_type": "execute_result"
    }
   ],
   "source": [
    "CLMrefts"
   ]
  },
  {
   "cell_type": "code",
   "execution_count": 50,
   "id": "ab1ed626-a1d8-47ef-9ef7-1aad5d2b498b",
   "metadata": {},
   "outputs": [],
   "source": [
    "clmssp_upper_quartile = np.percentile(CLMssp_pchange_ts, 75)\n",
    "clmssp_lower_quartile = np.percentile(CLMssp_pchange_ts, 25)\n",
    "\n",
    "clmsai_upper_quartile = np.percentile(CLMsai_pchange_ts, 75)\n",
    "clmsai_lower_quartile = np.percentile(CLMsai_pchange_ts, 25)\n",
    "\n",
    "lpjssp_upper_quartile = np.percentile(LPJssp_pchange_ts, 75)\n",
    "lpjssp_lower_quartile = np.percentile(LPJssp_pchange_ts, 25)\n",
    "\n",
    "lpjsai_upper_quartile = np.percentile(LPJsai_pchange_ts, 75)\n",
    "lpjsai_lower_quartile = np.percentile(LPJsai_pchange_ts, 25)\n",
    "\n",
    "dsatssp_upper_quartile = np.percentile(DSATssp_sdif_pchange_ts, 75)\n",
    "dsatssp_lower_quartile = np.percentile(DSATssp_sdif_pchange_ts, 25)\n",
    "\n",
    "dsatsai_upper_quartile = np.percentile(DSATsai_sdif_pchange_ts, 75)\n",
    "dsatsai_lower_quartile = np.percentile(DSATsai_sdif_pchange_ts, 25)"
   ]
  },
  {
   "cell_type": "code",
   "execution_count": 51,
   "id": "bc4ec2e5-bfe1-4467-b7d2-3cac463e2dd8",
   "metadata": {},
   "outputs": [],
   "source": [
    "clmssp_upper_quartile_2049 = np.percentile(CLMssp_pchange_ts_2049, 75)\n",
    "clmssp_lower_quartile_2049 = np.percentile(CLMssp_pchange_ts_2049, 25)\n",
    "\n",
    "clmsai_upper_quartile_2049 = np.percentile(CLMsai_pchange_ts_2049, 75)\n",
    "clmsai_lower_quartile_2049 = np.percentile(CLMsai_pchange_ts_2049, 25)\n",
    "\n",
    "lpjssp_upper_quartile_2049 = np.percentile(LPJssp_pchange_ts_2049, 75)\n",
    "lpjssp_lower_quartile_2049 = np.percentile(LPJssp_pchange_ts_2049, 25)\n",
    "\n",
    "lpjsai_upper_quartile_2049 = np.percentile(LPJsai_pchange_ts_2049, 75)\n",
    "lpjsai_lower_quartile_2049 = np.percentile(LPJsai_pchange_ts_2049, 25)\n",
    "\n",
    "dsatssp_upper_quartile_2049 = np.percentile(DSATssp_sdif_pchange_ts_2049, 75)\n",
    "dsatssp_lower_quartile_2049 = np.percentile(DSATssp_sdif_pchange_ts_2049, 25)\n",
    "\n",
    "dsatsai_upper_quartile_2049 = np.percentile(DSATsai_sdif_pchange_ts_2049, 75)\n",
    "dsatsai_lower_quartile_2049 = np.percentile(DSATsai_sdif_pchange_ts_2049, 25)"
   ]
  },
  {
   "cell_type": "code",
   "execution_count": 52,
   "id": "13b14340-9e73-4fda-90b1-4b73ae0b515f",
   "metadata": {},
   "outputs": [
    {
     "data": {
      "text/plain": [
       "array([ 0.22149765, -3.8329825 , -0.81763333, -7.361202  ,  2.6708574 ,\n",
       "        0.9032826 ,  0.4210863 ,  0.2425191 ,  0.64971787,  1.622344  ,\n",
       "        0.17868835,  0.2587732 ,  3.2248318 ,  1.25655   ,  0.9167875 ,\n",
       "        3.8689737 , -1.5387663 ,  0.43090117,  0.7176899 ,  1.7521021 ],\n",
       "      dtype=float32)"
      ]
     },
     "execution_count": 52,
     "metadata": {},
     "output_type": "execute_result"
    }
   ],
   "source": [
    "LPJsai_pchange_ts_2049"
   ]
  },
  {
   "cell_type": "code",
   "execution_count": 53,
   "id": "426ccc1f-c74d-40be-813a-203c6dd2445e",
   "metadata": {},
   "outputs": [
    {
     "data": {
      "text/plain": [
       "array([-0.01044649, -6.825091  , -2.5828085 , -6.5721064 ,  3.1916227 ,\n",
       "        1.4470265 , -0.47060597,  3.720604  ,  2.8813207 ,  2.0580416 ,\n",
       "       -0.5202529 , -0.54993755,  0.25207287,  2.7252815 ,  3.5143251 ,\n",
       "       -0.18750423,  2.7527375 ,  4.3620477 ,  0.9289013 ,  1.8103411 ],\n",
       "      dtype=float32)"
      ]
     },
     "execution_count": 53,
     "metadata": {},
     "output_type": "execute_result"
    }
   ],
   "source": [
    "LPJssp_pchange_ts_2049"
   ]
  },
  {
   "cell_type": "code",
   "execution_count": 54,
   "id": "10d8845f-ea83-421a-ab35-eadd187bd1f9",
   "metadata": {},
   "outputs": [],
   "source": [
    "min_ssp = np.array([clmssp_lower_quartile, lpjssp_lower_quartile, dsatssp_lower_quartile])\n",
    "max_ssp = np.array([clmssp_upper_quartile, lpjssp_upper_quartile, dsatssp_upper_quartile])\n",
    "\n",
    "min_sai = np.array([clmsai_lower_quartile, lpjsai_lower_quartile, dsatsai_lower_quartile])\n",
    "max_sai = np.array([clmsai_upper_quartile, lpjsai_upper_quartile, dsatsai_upper_quartile])"
   ]
  },
  {
   "cell_type": "code",
   "execution_count": 55,
   "id": "3893b557-afaf-4c0f-91a3-cc2c8048ca87",
   "metadata": {},
   "outputs": [],
   "source": [
    "min_ssp_2049 = np.array([clmssp_lower_quartile_2049, lpjssp_lower_quartile_2049, dsatssp_lower_quartile_2049])\n",
    "max_ssp_2049 = np.array([clmssp_upper_quartile_2049, lpjssp_upper_quartile_2049, dsatssp_upper_quartile_2049])\n",
    "\n",
    "min_sai_2049 = np.array([clmsai_lower_quartile_2049, lpjsai_lower_quartile_2049, dsatsai_lower_quartile_2049])\n",
    "max_sai_2049 = np.array([clmsai_upper_quartile_2049, lpjsai_upper_quartile_2049, dsatsai_upper_quartile_2049])"
   ]
  },
  {
   "cell_type": "code",
   "execution_count": 56,
   "id": "810dc46c-3f0d-4087-b0cf-67a518df0dac",
   "metadata": {},
   "outputs": [],
   "source": [
    "min_ssp = SSP - min_ssp\n",
    "max_ssp = max_ssp - SSP\n",
    "min_sai = SAI - min_sai\n",
    "max_sai = max_sai - SAI"
   ]
  },
  {
   "cell_type": "code",
   "execution_count": 57,
   "id": "70f81f5d-e047-4c68-9cb1-1dd8674ea4a9",
   "metadata": {},
   "outputs": [],
   "source": [
    "min_ssp_2049 = SSP_2049 - min_ssp_2049\n",
    "max_ssp_2049 = max_ssp_2049 - SSP_2049\n",
    "min_sai_2049 = SAI_2049 - min_sai_2049\n",
    "max_sai_2049 = max_sai_2049 - SAI_2049"
   ]
  },
  {
   "cell_type": "code",
   "execution_count": 58,
   "id": "090c214b-a5c2-4963-8a8d-b688712d64ea",
   "metadata": {},
   "outputs": [
    {
     "data": {
      "text/plain": [
       "array([ -0.32603032,   0.24819085, -16.16006941])"
      ]
     },
     "execution_count": 58,
     "metadata": {},
     "output_type": "execute_result"
    }
   ],
   "source": [
    "SSP_2049"
   ]
  },
  {
   "cell_type": "code",
   "execution_count": 60,
   "id": "9f6f3aa9-1c40-46cf-b665-5252da7d7a38",
   "metadata": {},
   "outputs": [
    {
     "data": {
      "text/plain": [
       "array([ -0.94710267,   0.54202611, -19.40643489])"
      ]
     },
     "execution_count": 60,
     "metadata": {},
     "output_type": "execute_result"
    }
   ],
   "source": [
    "SSP"
   ]
  },
  {
   "cell_type": "code",
   "execution_count": 61,
   "id": "3dbb7296-e42d-4020-9b24-723a72069024",
   "metadata": {},
   "outputs": [
    {
     "ename": "NameError",
     "evalue": "name 'min_ssp_2049' is not defined",
     "output_type": "error",
     "traceback": [
      "\u001b[0;31m---------------------------------------------------------------------------\u001b[0m",
      "\u001b[0;31mNameError\u001b[0m                                 Traceback (most recent call last)",
      "\u001b[0;32m<ipython-input-61-54e7733b6d2c>\u001b[0m in \u001b[0;36m<module>\u001b[0;34m\u001b[0m\n\u001b[0;32m----> 1\u001b[0;31m \u001b[0mmin_ssp_2049\u001b[0m\u001b[0;34m\u001b[0m\u001b[0;34m\u001b[0m\u001b[0m\n\u001b[0m",
      "\u001b[0;31mNameError\u001b[0m: name 'min_ssp_2049' is not defined"
     ]
    }
   ],
   "source": [
    "min_ssp_2049"
   ]
  },
  {
   "cell_type": "code",
   "execution_count": 62,
   "id": "f0d49677-e596-48ad-9e3c-0999a25b3dba",
   "metadata": {},
   "outputs": [
    {
     "ename": "NameError",
     "evalue": "name 'max_ssp_2049' is not defined",
     "output_type": "error",
     "traceback": [
      "\u001b[0;31m---------------------------------------------------------------------------\u001b[0m",
      "\u001b[0;31mNameError\u001b[0m                                 Traceback (most recent call last)",
      "\u001b[0;32m<ipython-input-62-3866b4d17a87>\u001b[0m in \u001b[0;36m<module>\u001b[0;34m\u001b[0m\n\u001b[0;32m----> 1\u001b[0;31m \u001b[0mmax_ssp_2049\u001b[0m\u001b[0;34m\u001b[0m\u001b[0;34m\u001b[0m\u001b[0m\n\u001b[0m",
      "\u001b[0;31mNameError\u001b[0m: name 'max_ssp_2049' is not defined"
     ]
    }
   ],
   "source": [
    "max_ssp_2049"
   ]
  },
  {
   "cell_type": "code",
   "execution_count": 92,
   "id": "4b125a56-0f6b-4a4b-8c74-7570f868b4a4",
   "metadata": {},
   "outputs": [],
   "source": [
    "N = 3\n",
    "ind = np.arange(N)\n",
    "barWidth = 0.25"
   ]
  },
  {
   "cell_type": "code",
   "execution_count": 103,
   "id": "e4022f38-8c97-4e1e-a8cf-71ae7d79859d",
   "metadata": {},
   "outputs": [
    {
     "data": {
      "image/png": "[encoded data removed]",
      "text/plain": [
       "<Figure size 432x288 with 1 Axes>"
      ]
     },
     "metadata": {
      "needs_background": "light"
     },
     "output_type": "display_data"
    }
   ],
   "source": [
    "fig = plt.subplots(figsize =(6, 4))\n",
    "#plt.grid(linewidth=0.6, zorder=0)\n",
    "plt.bar(ind, SSP, width = barWidth, color ='tab:red',\n",
    "        edgecolor ='grey', linewidth=0.6, label ='SSP245', zorder=2)\n",
    "plt.errorbar(ind, SSP, yerr=(min_ssp, max_ssp), fmt='o',marker='None', ecolor='black',elinewidth=1.5,capsize=4,zorder=3)\n",
    "\n",
    "plt.bar(ind + barWidth, SAI, color ='tab:blue', width = barWidth,\n",
    "        edgecolor ='grey',linewidth=0.6, label ='SSP245-SAI-1.5C', zorder=2)\n",
    "plt.errorbar(ind + barWidth, SAI, yerr=(min_sai, max_sai), fmt='o',marker='None', ecolor='black',elinewidth=1.5,capsize=4,zorder=3)\n",
    "\n",
    "plt.xticks(ind + barWidth / 2, ('CLMcrop', 'LPJ-GUESS', 'pDSSAT'),fontsize=12)\n",
    "plt.axhline(y=0, color='k', linestyle='-',linewidth=1)\n",
    "plt.ylabel(\"Change in global productivity (%)\",fontsize=12)\n",
    "plt.legend(loc=\"lower left\", ncol=1, prop={'size': 12})\n",
    "plt.ylim([-30,10])\n",
    "plt.title('Change in maize productivity \\n future (2049-2068) minus reference (2016-2035)',fontsize=12, y=0.99999999999999999999)\n",
    "plt.savefig(savedir+'/Fig2_JJ.png', dpi = 600, bbox_inches = 'tight', pad_inches = 0.05 )"
   ]
  },
  {
   "cell_type": "code",
   "execution_count": 104,
   "id": "23392d31-901a-464e-acb3-7a647474d88c",
   "metadata": {},
   "outputs": [],
   "source": [
    "cornprod_clm_ssp_sum_split = cornprod_clm_ssp_sum[21:]\n",
    "clm_time_pchange = (cornprod_clm_sai_sum - cornprod_clm_ssp_sum_split) / (cornprod_clm_ssp_sum_split)\n",
    "clm_time_pchange = clm_time_pchange * 100"
   ]
  },
  {
   "cell_type": "code",
   "execution_count": 105,
   "id": "faec6db6-0333-4289-a71d-7f4c7aa15db9",
   "metadata": {},
   "outputs": [],
   "source": [
    "cornprod_lpj_ssp_sum_split = cornprod_lpj_ssp_sum[20:]\n",
    "lpj_time_pchange = (cornprod_lpj_sai_sum - cornprod_lpj_ssp_sum_split) / (cornprod_lpj_ssp_sum_split)\n",
    "lpj_time_pchange = lpj_time_pchange * 100\n"
   ]
  },
  {
   "cell_type": "code",
   "execution_count": 106,
   "id": "7ec08110-13ff-43e2-8b8f-a5694a08aed4",
   "metadata": {},
   "outputs": [
    {
     "data": {
      "text/plain": [
       "<xarray.DataArray (time: 33)>\n",
       "array([ -2.595366,   2.096765,   3.75946 , -22.519192,  -0.693647,  -1.389707,\n",
       "        -9.908969,  15.403788,  -4.608324,   5.628335, -10.084766,  18.8017  ,\n",
       "       -17.796333,   0.631106,  19.205624,   6.020776,  13.895377,   1.406846,\n",
       "        11.517298,  14.481997,   6.448296,   2.787534,  -7.336905,  33.75257 ,\n",
       "        46.18422 ,  31.149715,  12.080198,   8.753536,  20.608335,  -3.730116,\n",
       "         4.35779 ,  17.497936,  -2.424571], dtype=float32)\n",
       "Coordinates:\n",
       "  * time     (time) datetime64[ns] 2036-01-01 2037-01-01 ... 2068-01-01"
      ]
     },
     "execution_count": 106,
     "metadata": {},
     "output_type": "execute_result"
    }
   ],
   "source": [
    "cornprod_pdssat_ssp_sum_split = cornprod_pdssat_ssp_sum[20:]\n",
    "pdssat_time_pchange = (cornprod_pdssat_sai_sum - cornprod_pdssat_ssp_sum_split) / (cornprod_pdssat_ssp_sum_split)\n",
    "pdssat_time_pchange = pdssat_time_pchange * 100\n",
    "pdssat_time_pchange"
   ]
  },
  {
   "cell_type": "code",
   "execution_count": 107,
   "id": "b91ba0d4-6cfd-420a-ae7c-0a48789cf105",
   "metadata": {},
   "outputs": [
    {
     "data": {
      "text/plain": [
       "<matplotlib.lines.Line2D at 0x145e46315d30>"
      ]
     },
     "execution_count": 107,
     "metadata": {},
     "output_type": "execute_result"
    },
    {
     "data": {
      "image/png": "[encoded data removed]",
      "text/plain": [
       "<Figure size 432x216 with 1 Axes>"
      ]
     },
     "metadata": {
      "needs_background": "light"
     },
     "output_type": "display_data"
    }
   ],
   "source": [
    "fig = plt.figure()\n",
    "fig.set_size_inches(6,3)\n",
    "plt.plot(time_sai_clm,clm_time_pchange,linewidth=2,color='m',label=\"CLMcrop\")\n",
    "plt.plot(time_sai,lpj_time_pchange,linewidth=2,color='c',label=\"LPJ-GUESS\")\n",
    "plt.plot(time_sai,pdssat_time_pchange,linewidth=2,color='y',label=\"pDSSAT\")\n",
    "plt.legend(loc=\"upper left\", ncol=1, prop={'size': 10})\n",
    "plt.ylabel(\"Global productivity change (%)\",fontsize=10)\n",
    "plt.title('SSP2-4.5-SAI-1.5C minus SSP2-4.5')\n",
    "plt.axhline(y=0, color='k', linestyle='-',linewidth=1)\n",
    "#plt.savefig(savedir+'/3model_timeseries_pchange.pdf', dpi = 600, bbox_inches = 'tight', pad_inches = 0.05 )"
   ]
  },
  {
   "cell_type": "code",
   "execution_count": 108,
   "id": "f8e4d945-82e4-4029-b1c3-42ac8e50249a",
   "metadata": {},
   "outputs": [],
   "source": [
    "CLMref = cornprod_clm_ssp_sum.sel(time=slice('2016', '2035'))\n",
    "CLMref = CLMref.mean(dim='time')\n",
    "\n",
    "CLMssp = cornprod_clm_ssp_sum.sel(time=slice('2036', '2068'))\n",
    "CLMsai = cornprod_clm_sai_sum.sel(time=slice('2036', '2068'))\n",
    "\n",
    "CLMssp_pchange = (CLMssp - CLMref) / (CLMref)\n",
    "CLMssp_pchange = CLMssp_pchange * 100\n",
    "\n",
    "CLMsai_pchange = (CLMsai - CLMref) / (CLMref)\n",
    "CLMsai_pchange = CLMsai_pchange * 100\n",
    "\n",
    "LPJref = cornprod_lpj_ssp_sum.sel(time=slice('2016', '2035'))\n",
    "LPJref = LPJref.mean(dim='time')\n",
    "\n",
    "LPJssp = cornprod_lpj_ssp_sum.sel(time=slice('2036', '2068'))\n",
    "LPJsai = cornprod_lpj_sai_sum.sel(time=slice('2036', '2068'))\n",
    "\n",
    "LPJssp_pchange = (LPJssp - LPJref) / (LPJref)\n",
    "LPJssp_pchange = LPJssp_pchange * 100\n",
    "\n",
    "LPJsai_pchange = (LPJsai - LPJref) / (LPJref)\n",
    "LPJsai_pchange = LPJsai_pchange * 100\n",
    "\n",
    "DSATref_sdif = cornprod_pdssat_ssp_sdif_sum.sel(time=slice('2016', '2035'))\n",
    "DSATref_sdif = DSATref_sdif.mean(dim='time')\n",
    "\n",
    "DSATssp_sdif = cornprod_pdssat_ssp_sdif_sum.sel(time=slice('2036', '2068'))\n",
    "DSATsai_sdif = cornprod_pdssat_sai_sdif_sum.sel(time=slice('2036', '2068'))\n",
    "\n",
    "DSATssp_sdif_pchange = (DSATssp_sdif - DSATref_sdif) / (DSATref_sdif)\n",
    "DSATssp_sdif_pchange = DSATssp_sdif_pchange * 100\n",
    "\n",
    "DSATsai_sdif_pchange = (DSATsai_sdif - DSATref_sdif) / (DSATref_sdif)\n",
    "DSATsai_sdif_pchange = DSATsai_sdif_pchange * 100"
   ]
  },
  {
   "cell_type": "code",
   "execution_count": 109,
   "id": "68305e14-cc87-49e8-8e74-0afe2faee9d0",
   "metadata": {},
   "outputs": [
    {
     "data": {
      "text/plain": [
       "<xarray.DataArray (time: 32)>\n",
       "array([725.849074, 723.045358, 728.263634, 699.611704, 750.358293, 733.537713,\n",
       "       740.283846, 714.689703, 756.296318, 714.656316, 749.414466, 738.608319,\n",
       "       725.388874, 734.14458 , 734.396986, 731.352535, 727.375446, 739.107599,\n",
       "       753.406514, 723.255363, 728.923824, 716.98761 , 760.556859, 744.985222,\n",
       "       730.186407, 753.397611, 737.146274, 751.531418, 731.740429, 712.595482,\n",
       "       740.676628, 745.815942])\n",
       "Coordinates:\n",
       "    crops    float64 0.0\n",
       "  * time     (time) datetime64[ns] 2037-01-01 2038-01-01 ... 2068-01-01\n",
       "Attributes:\n",
       "    units:    tonN/ha/yr"
      ]
     },
     "execution_count": 109,
     "metadata": {},
     "output_type": "execute_result"
    }
   ],
   "source": [
    "cornprod_clm_sai_sum"
   ]
  },
  {
   "cell_type": "code",
   "execution_count": 110,
   "id": "eff4b703-e3d6-4735-b71a-13c7ec1df102",
   "metadata": {},
   "outputs": [],
   "source": [
    "time = DSATsai_sdif_pchange.time\n",
    "time_clm = cornprod_clm_sai_sum.time"
   ]
  },
  {
   "cell_type": "code",
   "execution_count": 111,
   "id": "0b3e54c5-0c79-43ff-8a5b-c8580c1f3cc2",
   "metadata": {},
   "outputs": [],
   "source": [
    "CLMref = cornprod_clm_ssp_sum.sel(time=slice('2016', '2035'))\n",
    "CLMref_avg = CLMref.mean()\n",
    "clmref_std = np.std(CLMref)\n",
    "clm_std = (clmref_std) / (CLMref_avg)\n",
    "clm_std = clm_std * 100"
   ]
  },
  {
   "cell_type": "code",
   "execution_count": 112,
   "id": "c353aab5-cab9-4fcb-8a60-1eafae366f3f",
   "metadata": {},
   "outputs": [
    {
     "data": {
      "text/plain": [
       "<xarray.DataArray ()>\n",
       "array(3.204342)\n",
       "Coordinates:\n",
       "    crops    float64 0.0\n",
       "Attributes:\n",
       "    units:    tonN/ha/yr"
      ]
     },
     "execution_count": 112,
     "metadata": {},
     "output_type": "execute_result"
    }
   ],
   "source": [
    "clm_std"
   ]
  },
  {
   "cell_type": "code",
   "execution_count": 113,
   "id": "2af33c1e-3254-43b7-8f47-77c557a69471",
   "metadata": {},
   "outputs": [],
   "source": [
    "LPJref = cornprod_lpj_ssp_sum.sel(time=slice('2016', '2035'))\n",
    "LPJref_avg = LPJref.mean()\n",
    "LPJref_std = np.std(LPJref)\n",
    "LPJ_std = (LPJref_std) / (LPJref_avg)\n",
    "LPJ_std = LPJ_std * 100"
   ]
  },
  {
   "cell_type": "code",
   "execution_count": 114,
   "id": "20f2d0bb-76ca-47cb-b06c-9441488bceaf",
   "metadata": {},
   "outputs": [
    {
     "data": {
      "text/plain": [
       "<xarray.DataArray ()>\n",
       "array(2.07533)"
      ]
     },
     "execution_count": 114,
     "metadata": {},
     "output_type": "execute_result"
    }
   ],
   "source": [
    "LPJ_std"
   ]
  },
  {
   "cell_type": "code",
   "execution_count": 115,
   "id": "2be5c7c0-f82d-4925-aa5e-2377d0b63bf8",
   "metadata": {},
   "outputs": [],
   "source": [
    "DSATref_sdif = cornprod_pdssat_ssp_sdif_sum.sel(time=slice('2016', '2035'))\n",
    "DSATref_sdif_avg = DSATref_sdif.mean()\n",
    "DSATref_sdif_std = np.std(DSATref_sdif)\n",
    "DSAT_std = (DSATref_sdif_std) / (DSATref_sdif_avg)\n",
    "DSAT_std = DSAT_std * 100"
   ]
  },
  {
   "cell_type": "code",
   "execution_count": 116,
   "id": "22619878-fe70-4af7-98eb-58da28c02355",
   "metadata": {},
   "outputs": [
    {
     "data": {
      "text/plain": [
       "<xarray.DataArray ()>\n",
       "array(10.617692)"
      ]
     },
     "execution_count": 116,
     "metadata": {},
     "output_type": "execute_result"
    }
   ],
   "source": [
    "DSAT_std"
   ]
  },
  {
   "cell_type": "code",
   "execution_count": 117,
   "id": "c4a53eab-048b-446e-be82-a3aac322967d",
   "metadata": {},
   "outputs": [
    {
     "data": {
      "text/plain": [
       "<xarray.DataArray (time: 32)>\n",
       "array([ 1.419345,  1.027596,  1.75672 , -2.246674,  4.843899,  2.493641,\n",
       "        3.436246, -0.139899,  5.67359 , -0.144564,  4.712022,  3.202132,\n",
       "        1.355044,  2.578436,  2.613703,  2.188317,  1.632618,  3.271894,\n",
       "        5.269812,  1.056939,  1.848965,  0.181176,  6.268895,  4.093146,\n",
       "        2.02538 ,  5.268568,  2.997848,  5.007814,  2.242516, -0.432514,\n",
       "        3.491127,  4.209218])\n",
       "Coordinates:\n",
       "    crops    float64 0.0\n",
       "  * time     (time) datetime64[ns] 2037-01-01 2038-01-01 ... 2068-01-01\n",
       "Attributes:\n",
       "    units:    tonN/ha/yr"
      ]
     },
     "execution_count": 117,
     "metadata": {},
     "output_type": "execute_result"
    }
   ],
   "source": [
    "CLMsai_pchange"
   ]
  },
  {
   "cell_type": "code",
   "execution_count": 118,
   "id": "88f5144f-9e30-4c5c-b3c6-67bb3c3be8a7",
   "metadata": {},
   "outputs": [],
   "source": [
    "time = np.arange(2036, 2069)\n",
    "time = list(time)\n",
    "time_clm = np.arange(2036, 2068)\n",
    "time_clm = list(time_clm)\n",
    "\n",
    "CLMssp_pchange = CLMssp_pchange.values\n",
    "CLMssp_pchange = xr.DataArray(CLMssp_pchange, coords={'time': time},\n",
    "             dims=['time'])\n",
    "CLMsai_pchange = CLMsai_pchange.values\n",
    "CLMsai_pchange = xr.DataArray(CLMsai_pchange, coords={'time': time_clm},\n",
    "             dims=['time'])\n",
    "LPJssp_pchange = LPJssp_pchange.values\n",
    "LPJssp_pchange = xr.DataArray(LPJssp_pchange, coords={'time': time},\n",
    "             dims=['time'])\n",
    "LPJsai_pchange = LPJsai_pchange.values\n",
    "LPJsai_pchange = xr.DataArray(LPJsai_pchange, coords={'time': time},\n",
    "             dims=['time'])\n",
    "DSATssp_sdif_pchange = DSATssp_sdif_pchange.values\n",
    "DSATssp_sdif_pchange = xr.DataArray(DSATssp_sdif_pchange, coords={'time': time},\n",
    "             dims=['time'])\n",
    "DSATsai_sdif_pchange = DSATsai_sdif_pchange.values\n",
    "DSATsai_sdif_pchange = xr.DataArray(DSATsai_sdif_pchange, coords={'time': time},\n",
    "             dims=['time'])"
   ]
  },
  {
   "cell_type": "code",
   "execution_count": 146,
   "id": "c83536d6-63f7-4ce2-be55-8b5967889217",
   "metadata": {},
   "outputs": [
    {
     "data": {
      "text/plain": [
       "<xarray.DataArray (time: 33)>\n",
       "array([-0.551539,  0.811212,  2.642792,  2.102856, -0.07029 , -1.200764,\n",
       "        0.615012, -0.553085,  5.107107, -0.176364,  2.368474,  5.498927,\n",
       "        0.120885,  0.782211, -2.959933, -1.314634, -1.737047,  0.18368 ,\n",
       "       -0.430179, -1.649353,  2.58959 ,  1.368573, -0.093211, -3.409379,\n",
       "       -2.722484, -4.086734,  1.971319, -0.245787, -2.460953, -0.825307,\n",
       "       -1.104825, -1.25093 , -1.546669])\n",
       "Coordinates:\n",
       "  * time     (time) int64 2036 2037 2038 2039 2040 ... 2064 2065 2066 2067 2068"
      ]
     },
     "execution_count": 146,
     "metadata": {},
     "output_type": "execute_result"
    }
   ],
   "source": [
    "CLMssp_pchange"
   ]
  },
  {
   "cell_type": "code",
   "execution_count": 149,
   "id": "97a79702-b159-47e6-bb42-ea939b0f1263",
   "metadata": {
    "scrolled": true
   },
   "outputs": [
    {
     "data": {
      "text/plain": [
       "[2036,\n",
       " 2037,\n",
       " 2038,\n",
       " 2039,\n",
       " 2040,\n",
       " 2041,\n",
       " 2042,\n",
       " 2043,\n",
       " 2044,\n",
       " 2045,\n",
       " 2046,\n",
       " 2047,\n",
       " 2048,\n",
       " 2049,\n",
       " 2050,\n",
       " 2051,\n",
       " 2052,\n",
       " 2053,\n",
       " 2054,\n",
       " 2055,\n",
       " 2056,\n",
       " 2057,\n",
       " 2058,\n",
       " 2059,\n",
       " 2060,\n",
       " 2061,\n",
       " 2062,\n",
       " 2063,\n",
       " 2064,\n",
       " 2065,\n",
       " 2066,\n",
       " 2067,\n",
       " 2068]"
      ]
     },
     "execution_count": 149,
     "metadata": {},
     "output_type": "execute_result"
    }
   ],
   "source": [
    "time"
   ]
  },
  {
   "cell_type": "code",
   "execution_count": 179,
   "id": "4e6b08a3-18a2-41d0-99d2-a49b91280339",
   "metadata": {},
   "outputs": [],
   "source": [
    "model = LinearRegression()\n",
    "x = time\n",
    "fit = np.polyfit(x, CLMssp_pchange, deg=1)\n",
    "fit_function_CLMssp = np.poly1d(fit)\n",
    "x_clm = time_clm\n",
    "fit = np.polyfit(x_clm, CLMsai_pchange, deg=1)\n",
    "fit_function_CLMsai = np.poly1d(fit)\n",
    "\n",
    "fit = np.polyfit(x, LPJssp_pchange, deg=1)\n",
    "fit_function_LPJssp = np.poly1d(fit)\n",
    "fit = np.polyfit(x, LPJsai_pchange, deg=1)\n",
    "fit_function_LPJsai = np.poly1d(fit)\n",
    "\n",
    "fit = np.polyfit(x, DSATssp_sdif_pchange, deg=1)\n",
    "fit_function_DSATssp = np.poly1d(fit)\n",
    "fit = np.polyfit(x, DSATsai_sdif_pchange, deg=1)\n",
    "fit_function_DSATsai = np.poly1d(fit)"
   ]
  },
  {
   "cell_type": "code",
   "execution_count": 183,
   "id": "d8f681d3-06a2-40fb-908a-246b4e8b5d64",
   "metadata": {},
   "outputs": [
    {
     "data": {
      "image/png": "[encoded data removed]",
      "text/plain": [
       "<Figure size 1296x288 with 3 Axes>"
      ]
     },
     "metadata": {
      "needs_background": "light"
     },
     "output_type": "display_data"
    }
   ],
   "source": [
    "fig = plt.figure()\n",
    "fig.set_size_inches(18,4)\n",
    "ax1 = fig.add_subplot(131)\n",
    "ax1.plot(time,CLMssp_pchange,linewidth=2,color='tab:red',label=\"SSP245\")\n",
    "ax1.plot(time, fit_function_CLMssp(x), linewidth=1.5, color='tab:red', linestyle='--')\n",
    "ax1.plot(time_clm,CLMsai_pchange,linewidth=2,color='tab:blue',label=\"SSP245-SAI-1.5C\")\n",
    "ax1.plot(time_clm, fit_function_CLMsai(x_clm), linewidth=1.5, color='tab:blue', linestyle='--')\n",
    "ax1.legend(loc=\"lower left\", ncol=1, prop={'size': 12})\n",
    "ax1.set_title('CLMcrop',size=14)\n",
    "ax1.set_ylim([-11, 11])\n",
    "#ax1.set_xticks(xticks)\n",
    "ax1.set_yticks(np.arange(-10, 15, 5))\n",
    "ax1.set_xticks(np.arange(2035, 2075, 5))\n",
    "ax1.axhline(y=-3.2, color='k',linewidth=1)\n",
    "ax1.axhline(y=3.2, color='k',linewidth=1)\n",
    "ax1.axhline(y=0, color='k', linestyle='-',linewidth=0.5)\n",
    "ax1.set_ylabel(\"Global productivity change (%)\",fontsize=14)\n",
    "#ax1.set_ylabel(\"Global Productivity (Mt/yr)\",fontsize=12)\n",
    "\n",
    "ax2 = fig.add_subplot(132)\n",
    "ax2.plot(time,LPJssp_pchange,linewidth=2,color='tab:red',label=\"SSP245\")\n",
    "ax2.plot(time, fit_function_LPJssp(x), linewidth=1.5, color='tab:red', linestyle='--')\n",
    "ax2.plot(time,LPJsai_pchange,linewidth=2,color='tab:blue',label=\"SSP245-SAI-1.5C\")\n",
    "ax2.plot(time, fit_function_LPJsai(x), linewidth=1.5, color='tab:blue', linestyle='--')\n",
    "#ax2.legend(loc=\"upper right\", ncol=1, prop={'size': 13})\n",
    "ax2.set_title('LPJ-GUESS',size=14)\n",
    "ax2.set_ylim([-11, 11])\n",
    "ax2.set_yticks(np.arange(-10, 15, 5))\n",
    "ax2.set_xticks(np.arange(2035, 2075, 5))\n",
    "ax2.axhline(y=-2.0, color='k',linewidth=1)\n",
    "ax2.axhline(y=2.0, color='k', linewidth=1)\n",
    "ax2.axhline(y=0, color='k',linewidth=0.5)\n",
    "#ax3.set_ylabel(\"Global Productivity (Mt/year)\",fontsize=13)\n",
    "\n",
    "ax3 = fig.add_subplot(133)\n",
    "ax3.plot(time,DSATssp_sdif_pchange,linewidth=2,color='tab:red',label=\"SSP245\")\n",
    "ax3.plot(time, fit_function_DSATssp(x), linewidth=1.5, color='tab:red', linestyle='--')\n",
    "ax3.plot(time,DSATsai_sdif_pchange,linewidth=2,color='tab:blue',label=\"SSP245-SAI-1.5C\")\n",
    "ax3.plot(time, fit_function_DSATsai(x), linewidth=1.5, color='tab:blue', linestyle='--')\n",
    "#ax1.plot(time_sai,cornprod_pdssat_sai_sdif_sum,linewidth=2,color='k',label=\"SSP245-SAI-1.5C with diffuse\")\n",
    "#ax3.legend(loc=\"lower left\", ncol=1, prop={'size': 11})\n",
    "ax3.set_title('pDSSAT',size=14)\n",
    "ax3.set_ylim([-35, 35])\n",
    "ax3.set_xticks(np.arange(2035, 2075, 5))\n",
    "ax3.axhline(y=-10.6, color='k',linewidth=1)\n",
    "ax3.axhline(y=10.6, color='k',linewidth=1)\n",
    "ax3.axhline(y=0, color='k', linestyle='-',linewidth=0.5)\n",
    "#ax3.set_ylabel(\"Global Productivity (Mt/year)\",fontsize=13)\n",
    "plt.subplots_adjust(hspace=0.2,wspace=0.13)\n",
    "#fig.suptitle('Percent change to maize productivity relative to reference period', size=14, y=0.999999999)\n",
    "plt.savefig(savedir+'/Fig1_JJ.png', dpi = 600, bbox_inches = 'tight', pad_inches = 0.05 )"
   ]
  }
 ],
 "metadata": {
  "kernelspec": {
   "display_name": "Pangeo (2019.09.12 - py3.7)",
   "language": "python",
   "name": "pangeo-2019.09.12"
  },
  "language_info": {
   "codemirror_mode": {
    "name": "ipython",
    "version": 3
   },
   "file_extension": ".py",
   "mimetype": "text/x-python",
   "name": "python",
   "nbconvert_exporter": "python",
   "pygments_lexer": "ipython3",
   "version": "3.7.3"
  }
 },
 "nbformat": 4,
 "nbformat_minor": 5
}
